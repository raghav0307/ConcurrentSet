{
 "cells": [
  {
   "cell_type": "code",
   "execution_count": 4,
   "metadata": {},
   "outputs": [],
   "source": [
    "import matplotlib.pyplot as plt\n",
    "def getThroughputs(algo, distribution, threads):\n",
    "    path = \"BenchmarkTests/\" + str(algo) + \"/\" + str(distribution) + \"/\"\n",
    "    TPs = []\n",
    "    for i in range(1, threads + 1):\n",
    "        f = open(path + str(i) + \"_Threads.txt\", \"r\")\n",
    "        throughput = int(f.readlines()[3][13:-8])\n",
    "        TPs.append(throughput)\n",
    "    return TPs\n",
    "\n",
    "\n",
    "algorithms = [\"KBST\", \"TrevorBrown\", \"EFRBLFBST\",\n",
    "              \"NMLFBST\", \"HelpOptimalLocalRestartLFBST\"]\n",
    "operations = [\"Uniform\", \"InsertHeavy\",\n",
    "              \"SearchHeavy\", \"DeleteHeavy\"]\n",
    "throughPut = {}\n",
    "for algo in algorithms:\n",
    "    throughPut[algo] = {}\n",
    "    for distribution in operations:\n",
    "        throughPut[algo][distribution] = []\n",
    "        throughPut[algo][distribution] = getThroughputs(algo, distribution, 8)\n",
    "\n",
    "for distribution in operations:\n",
    "\n",
    "    for algo in algorithms:\n",
    "        X = []\n",
    "        Y = []\n",
    "        for thread in range(1, 9):\n",
    "            X.append(thread)\n",
    "            Y.append(throughPut[algo][distribution][thread - 1])\n",
    "        plt.plot(X, Y, label = algo, marker = 'o')\n",
    "    plt.xlabel(\"Threads\")\n",
    "    plt.ylabel(\"Throughput Ops/sec\")\n",
    "    plt.title(distribution)\n",
    "    plt.legend()\n",
    "    # plt.show()\n",
    "    plt.savefig(\"Plots/\"+str(distribution)+\".png\")\n",
    "    plt.close()"
   ]
  }
 ],
 "metadata": {
  "interpreter": {
   "hash": "f63534d7f7c24bd75dd173a77588365b4690f7becab844ed2713b6598225f838"
  },
  "kernelspec": {
   "display_name": "Python 3.9.11 ('Machine_Learning')",
   "language": "python",
   "name": "python3"
  },
  "language_info": {
   "codemirror_mode": {
    "name": "ipython",
    "version": 3
   },
   "file_extension": ".py",
   "mimetype": "text/x-python",
   "name": "python",
   "nbconvert_exporter": "python",
   "pygments_lexer": "ipython3",
   "version": "3.9.11"
  },
  "orig_nbformat": 4
 },
 "nbformat": 4,
 "nbformat_minor": 2
}
